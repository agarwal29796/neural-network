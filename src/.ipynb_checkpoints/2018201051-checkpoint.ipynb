{
 "cells": [
  {
   "cell_type": "markdown",
   "metadata": {
    "colab_type": "text",
    "id": "U3Ty0SGAhGWl"
   },
   "source": [
    "# Assignment 5\n",
    "# Neural Network\n",
    "submitted by <br>\n",
    "roll no : 2018201051\n"
   ]
  },
  {
   "cell_type": "markdown",
   "metadata": {
    "colab_type": "text",
    "id": "mvr8lyntbWAL"
   },
   "source": [
    "## Question 1 : Creating Neural Network "
   ]
  },
  {
   "cell_type": "code",
   "execution_count": 0,
   "metadata": {
    "colab": {},
    "colab_type": "code",
    "collapsed": true,
    "id": "aoTmlF0WhGWn"
   },
   "outputs": [],
   "source": [
    "import numpy as np\n",
    "import pandas as pd\n",
    "import matplotlib.pyplot as plt"
   ]
  },
  {
   "cell_type": "code",
   "execution_count": 6,
   "metadata": {
    "colab": {
     "base_uri": "https://localhost:8080/",
     "height": 51
    },
    "colab_type": "code",
    "collapsed": false,
    "id": "VZegrCmmbtpt",
    "outputId": "58414687-b5ac-4588-f3d0-3e7535b6b4a7"
   },
   "outputs": [
    {
     "name": "stdout",
     "output_type": "stream",
     "text": [
      "Archive:  data.zip\n",
      "  inflating: data.csv                \n"
     ]
    }
   ],
   "source": [
    "# from google.colab import files\n",
    "# uploaded = files.upload()\n",
    "\n",
    "# from google.colab import files\n",
    "# uploaded = files.upload()\n",
    "\n",
    "!unzip data.zip"
   ]
  },
  {
   "cell_type": "code",
   "execution_count": 0,
   "metadata": {
    "colab": {},
    "colab_type": "code",
    "collapsed": true,
    "id": "kSwYOX1QhGWs"
   },
   "outputs": [],
   "source": [
    "def sigmoid(Z):\n",
    "    temp = 1 + np.exp(-Z)\n",
    "    return 1./temp"
   ]
  },
  {
   "cell_type": "code",
   "execution_count": 0,
   "metadata": {
    "colab": {},
    "colab_type": "code",
    "collapsed": true,
    "id": "jvOMxrT5hGWy"
   },
   "outputs": [],
   "source": [
    "def relu(Z):\n",
    "    temp  = np.where(Z >= 0 , 1 , 0)\n",
    "    return Z*temp"
   ]
  },
  {
   "cell_type": "code",
   "execution_count": 0,
   "metadata": {
    "colab": {},
    "colab_type": "code",
    "collapsed": true,
    "id": "qVNjKsRKhGW2"
   },
   "outputs": [],
   "source": [
    "def softmax(Z):\n",
    "    temp = np.exp(Z)\n",
    "    temp1 = np.sum(temp , axis = 0)\n",
    "    return np.divide(temp , temp1 , dtype = \"float\")"
   ]
  },
  {
   "cell_type": "code",
   "execution_count": 0,
   "metadata": {
    "colab": {},
    "colab_type": "code",
    "collapsed": true,
    "id": "ncWlst11hGW7"
   },
   "outputs": [],
   "source": [
    "def y_transform(y):\n",
    "    arr =  []\n",
    "    for i  in range(y.shape[0]):\n",
    "        temp = [0,0,0,0,0,0,0,0,0,0]\n",
    "        val = y.iloc[i]\n",
    "        temp[val] = 1 \n",
    "        arr.append(temp)\n",
    "    arr = np.array(arr)\n",
    "    return arr.T"
   ]
  },
  {
   "cell_type": "code",
   "execution_count": 0,
   "metadata": {
    "colab": {},
    "colab_type": "code",
    "collapsed": true,
    "id": "n-YnEEQpyiFF"
   },
   "outputs": [],
   "source": [
    "def linear_backward( dZ , A_prev , W):\n",
    "    m = A_prev.shape[1]\n",
    "    dW = np.dot(dZ, A_prev.T)/m\n",
    "    db = np.sum(dZ, axis = 1, keepdims = True)/m\n",
    "    dA_prev = np.dot(W.T, dZ)\n",
    "    return dA_prev , db , dW\n",
    "\n",
    "def relu_backward( dA , Z):\n",
    "    temp = np.where(Z >= 0 , 1 ,0)\n",
    "    return dA*temp\n",
    "\n",
    "def sig_backward( dA , Z):\n",
    "    temp  = sigmoid(Z)*(1-sigmoid(Z))\n",
    "    return dA*temp\n",
    "        \n",
    "def tanh_backward( dA , Z):\n",
    "    temp = 1.0 - np.tanh(Z)**2\n",
    "    return dA*temp"
   ]
  },
  {
   "cell_type": "code",
   "execution_count": 0,
   "metadata": {
    "colab": {},
    "colab_type": "code",
    "collapsed": true,
    "id": "VooAANchhGXB"
   },
   "outputs": [],
   "source": [
    "class neuralNet():\n",
    "    def __init__(self,  dims = [] , fun = [] ,iterations = 30, learning_rate = 0.1):# dims  = [input_dims,  h1layer , .... , out_layer] , fun = activation function at each layer\n",
    "        self.num_iters = iterations\n",
    "        self.num_layers = len(dims)-1\n",
    "        self.parameters = {}\n",
    "        self.learning_rate = learning_rate\n",
    "        self.training_error = []\n",
    "        self.val_error = []\n",
    "        \n",
    "        for i in range(1, self.num_layers +1):\n",
    "            self.parameters[\"W\" + str(i)] = np.random.randn(dims[i],dims[i-1])\n",
    "            self.parameters[\"b\" + str(i)] = np.zeros((dims[i] , 1))\n",
    "            self.parameters[\"activation\" + str(i)] = fun[i-1]\n",
    "    \n",
    "    def train_forward(self,X) :\n",
    "        caches  = []\n",
    "        A_old  =  X\n",
    "        for i  in range(1, self.num_layers + 1) :\n",
    "\n",
    "            temp  = np.matmul(self.parameters[\"W\" + str(i)], A_old) \n",
    "            Z  = temp  +  self.parameters[\"b\" + str(i)]\n",
    "            \n",
    "            if  np.isnan(np.sum(Z)) :\n",
    "                print(\"Error at Layer :  \" +  str(i))\n",
    "                print(Z)\n",
    "\n",
    "            if self.parameters[\"activation\" + str(i)] == \"relu\" :\n",
    "                A_new = relu(Z)\n",
    "      \n",
    "            elif self.parameters[\"activation\" + str(i)] == \"tanh\" :\n",
    "                A_new = np.tanh(Z)\n",
    "\n",
    "\n",
    "            elif self.parameters[\"activation\" + str(i)] == \"sigmoid\":\n",
    "                A_new = sigmoid(Z)\n",
    "\n",
    "            elif self.parameters[\"activation\" + str(i)] == \"softmax\":\n",
    "                A_new = softmax(Z)\n",
    "            \n",
    "            cache = (A_old, Z)\n",
    "            caches.append(cache)\n",
    "            A_old = A_new\n",
    "        return A_new , caches\n",
    "    \n",
    "    \n",
    "        \n",
    "    def train_backward(self , Al , y , caches):\n",
    "        grads = {}\n",
    "        L = self.num_layers\n",
    "        A_prev  , Z  = caches[ L - 1 ]\n",
    "        dZl = Al - y  # for softmax layer only\n",
    "        dA_prev , db , dW  = linear_backward( dZl , A_prev  ,self.parameters[\"W\" + str(L)])\n",
    "#         grads[\"dA\" + str(L-1)] = dA_prev\n",
    "        grads[\"dW\" + str(L)] = dW\n",
    "        grads[\"db\" + str(L)] = db\n",
    "        for  i in range(L-1,0,-1) :\n",
    "            A_prev , Z = caches[i-1]\n",
    "            if self.parameters[\"activation\" + str(i)] == \"relu\":\n",
    "                dZ = relu_backward(dA_prev , Z)\n",
    "            elif self.parameters[\"activation\" + str(i)] == \"sigmoid\":\n",
    "                dZ = sig_backward(dA_prev,  Z)\n",
    "            elif self.parameters[\"activation\" + str(i)] == \"tanh\":\n",
    "                dZ = tanh_backward(dA_prev,  Z)\n",
    "            dA_prev, db , dW = linear_backward(dZ ,A_prev , self.parameters[\"W\" + str(i)])\n",
    "\n",
    "            grads[\"dW\" + str(i)] = dW\n",
    "            grads[\"db\" + str(i)] = db\n",
    "        return grads  \n",
    "            \n",
    "        \n",
    "    def update_weights(self, grads):\n",
    "        for l in range(self.num_layers):\n",
    "\n",
    "            self.parameters[\"W\" + str(l+1)] += -self.learning_rate*grads[\"dW\" + str(l+1)]\n",
    "            self.parameters[\"b\" + str(l+1)] += -self.learning_rate*grads[\"db\" + str(l+1)]\n",
    "\n",
    "    def fit(self , X, Y ,val_X , val_Y,  batch_size = 5000):\n",
    "        l = X.shape[0]/batch_size\n",
    "        \n",
    "        val_X = val_X.astype('float')/255\n",
    "        val_Y = y_transform(val_Y)\n",
    "        \n",
    "        for  i in range(self.num_iters):\n",
    "            print(\"Epoch ========== \" + str(i)+\" :=========== \")\n",
    "            cost = 0\n",
    "            for j in range(l):\n",
    "                x_batch =  X.iloc[j*batch_size : (j+1)*batch_size , :].astype('float')\n",
    "                y_batch =  Y.iloc[j*batch_size : (j+1)*batch_size ]\n",
    "                x_batch = x_batch/255\n",
    "\n",
    "                Al , caches = self.train_forward(x_batch.T)\n",
    "                y_batch  = y_transform(y_batch)\n",
    "                cost += self.error(Al , y_batch) # y-batch should be ( nl * m )\n",
    "                grads = self.train_backward(Al ,y_batch , caches)\n",
    "                self.update_weights(grads)\n",
    "            \n",
    "            self.training_error.append(float(cost)/X.shape[0])\n",
    "            \n",
    "            #Calculating validation error\n",
    "            al_val, _ = self.train_forward(val_X.T)\n",
    "            val_e  = float(self.error(al_val,val_Y))/val_X.shape[0]\n",
    "            self.val_error.append(val_e)\n",
    "            print(\"training error is  \" + str(float(cost)/X.shape[0]))\n",
    "            print(\"val error is : \" + str(val_e))\n",
    "    \n",
    "    def error(self, al ,  y ):\n",
    "        n_max =  np.max(al  ,axis = 0 )\n",
    "        result =  np.where(al >=n_max , 1 , 0)\n",
    "        cost  = np.sum(np.sum(np.abs(result-y) , axis  = 0)/2)\n",
    "        return float(cost)\n",
    "    \n",
    "    def epoch_vs_accuracy(self):\n",
    "        plt.plot( range(self.num_iters), self.training_error , 'r')\n",
    "        plt.plot(range(self.num_iters) , self.val_error , 'g')\n",
    "        plt.xlabel(\"numbers of Epochs\")\n",
    "        plt.ylabel(\"error\")\n",
    "        plt.legend([\"training error\" , \"validation error\"])\n",
    "        plt.show()\n",
    "        \n",
    "    \n",
    "    def predict(self , X):\n",
    "        X = X.astype('float')/255\n",
    "#         y = y_transform(y)\n",
    "        al, caches = self.train_forward(X.T)\n",
    "        n_max =  np.max(al  ,axis = 0)\n",
    "        result =  np.where(al >=n_max , 1 , 0)\n",
    "        temp =  np.array([0,1,2,3,4,5,6,7,8,9]).reshape(10,1)\n",
    "        n_max2 = np.max(result*temp,axis = 0)\n",
    "        return n_max2\n",
    "                \n",
    "#         "
   ]
  },
  {
   "cell_type": "markdown",
   "metadata": {
    "colab_type": "text",
    "id": "A9zv3g7MbWA4"
   },
   "source": [
    "##  Loading Apparel dataset"
   ]
  },
  {
   "cell_type": "code",
   "execution_count": 0,
   "metadata": {
    "colab": {},
    "colab_type": "code",
    "collapsed": true,
    "id": "39d0WitHhGXF"
   },
   "outputs": [],
   "source": [
    "data = pd.read_csv('data.csv')\n",
    "data.head()\n",
    "train_data = data.iloc[:50000,:]\n",
    "val_data = data.iloc[50000:,:]\n"
   ]
  },
  {
   "cell_type": "code",
   "execution_count": 0,
   "metadata": {
    "colab": {},
    "colab_type": "code",
    "collapsed": true,
    "id": "-WQORedRhGXT"
   },
   "outputs": [],
   "source": [
    "train_X = train_data.iloc[: , 1:]\n",
    "train_Y = train_data.iloc[: , 0]\n",
    "val_X = val_data.iloc[:,1:]\n",
    "val_Y = val_data.iloc[:,0]"
   ]
  },
  {
   "cell_type": "markdown",
   "metadata": {
    "colab_type": "text",
    "id": "yhkXa3SLbWBF"
   },
   "source": [
    "## Some examples "
   ]
  },
  {
   "cell_type": "markdown",
   "metadata": {
    "colab_type": "text",
    "id": "GPuqr70YbWBH"
   },
   "source": [
    "###  Training a neural network with 2 hidden layers and sigmoid function   "
   ]
  },
  {
   "cell_type": "code",
   "execution_count": 0,
   "metadata": {
    "colab": {},
    "colab_type": "code",
    "collapsed": true,
    "id": "HzU5CvuchGXX"
   },
   "outputs": [],
   "source": [
    "NN = neuralNet([784 ,300, 100 , 10] ,['sigmoid', 'sigmoid' , 'softmax'] , iterations = 50)"
   ]
  },
  {
   "cell_type": "code",
   "execution_count": 16,
   "metadata": {
    "colab": {
     "base_uri": "https://localhost:8080/",
     "height": 2567
    },
    "colab_type": "code",
    "collapsed": false,
    "id": "vtuwvI4ohGXc",
    "outputId": "fa5510ac-e553-4fc5-b570-748ceff1ac9d",
    "scrolled": true
   },
   "outputs": [
    {
     "name": "stdout",
     "output_type": "stream",
     "text": [
      "Epoch ========== 0 :=========== \n",
      "training error is  0.58782\n",
      "val error is : 0.4487\n",
      "Epoch ========== 1 :=========== \n",
      "training error is  0.39648\n",
      "val error is : 0.3709\n",
      "Epoch ========== 2 :=========== \n",
      "training error is  0.34302\n",
      "val error is : 0.3336\n",
      "Epoch ========== 3 :=========== \n",
      "training error is  0.31408\n",
      "val error is : 0.3111\n",
      "Epoch ========== 4 :=========== \n",
      "training error is  0.29546\n",
      "val error is : 0.2958\n",
      "Epoch ========== 5 :=========== \n",
      "training error is  0.28018\n",
      "val error is : 0.2841\n",
      "Epoch ========== 6 :=========== \n",
      "training error is  0.26976\n",
      "val error is : 0.2735\n",
      "Epoch ========== 7 :=========== \n",
      "training error is  0.26048\n",
      "val error is : 0.265\n",
      "Epoch ========== 8 :=========== \n",
      "training error is  0.25298\n",
      "val error is : 0.2578\n",
      "Epoch ========== 9 :=========== \n",
      "training error is  0.24748\n",
      "val error is : 0.2542\n",
      "Epoch ========== 10 :=========== \n",
      "training error is  0.24232\n",
      "val error is : 0.2499\n",
      "Epoch ========== 11 :=========== \n",
      "training error is  0.23746\n",
      "val error is : 0.2452\n",
      "Epoch ========== 12 :=========== \n",
      "training error is  0.23276\n",
      "val error is : 0.2423\n",
      "Epoch ========== 13 :=========== \n",
      "training error is  0.22868\n",
      "val error is : 0.2395\n",
      "Epoch ========== 14 :=========== \n",
      "training error is  0.22608\n",
      "val error is : 0.2369\n",
      "Epoch ========== 15 :=========== \n",
      "training error is  0.22358\n",
      "val error is : 0.234\n",
      "Epoch ========== 16 :=========== \n",
      "training error is  0.22102\n",
      "val error is : 0.2309\n",
      "Epoch ========== 17 :=========== \n",
      "training error is  0.21902\n",
      "val error is : 0.2288\n",
      "Epoch ========== 18 :=========== \n",
      "training error is  0.2172\n",
      "val error is : 0.2273\n",
      "Epoch ========== 19 :=========== \n",
      "training error is  0.21482\n",
      "val error is : 0.2255\n",
      "Epoch ========== 20 :=========== \n",
      "training error is  0.2128\n",
      "val error is : 0.2237\n",
      "Epoch ========== 21 :=========== \n",
      "training error is  0.21086\n",
      "val error is : 0.2222\n",
      "Epoch ========== 22 :=========== \n",
      "training error is  0.20902\n",
      "val error is : 0.2215\n",
      "Epoch ========== 23 :=========== \n",
      "training error is  0.2072\n",
      "val error is : 0.2206\n",
      "Epoch ========== 24 :=========== \n",
      "training error is  0.20536\n",
      "val error is : 0.2189\n",
      "Epoch ========== 25 :=========== \n",
      "training error is  0.2041\n",
      "val error is : 0.2181\n",
      "Epoch ========== 26 :=========== \n",
      "training error is  0.20282\n",
      "val error is : 0.2169\n",
      "Epoch ========== 27 :=========== \n",
      "training error is  0.20158\n",
      "val error is : 0.2158\n",
      "Epoch ========== 28 :=========== \n",
      "training error is  0.20004\n",
      "val error is : 0.2143\n",
      "Epoch ========== 29 :=========== \n",
      "training error is  0.19908\n",
      "val error is : 0.2127\n",
      "Epoch ========== 30 :=========== \n",
      "training error is  0.19774\n",
      "val error is : 0.211\n",
      "Epoch ========== 31 :=========== \n",
      "training error is  0.19674\n",
      "val error is : 0.2102\n",
      "Epoch ========== 32 :=========== \n",
      "training error is  0.19554\n",
      "val error is : 0.2087\n",
      "Epoch ========== 33 :=========== \n",
      "training error is  0.19466\n",
      "val error is : 0.2077\n",
      "Epoch ========== 34 :=========== \n",
      "training error is  0.19394\n",
      "val error is : 0.2068\n",
      "Epoch ========== 35 :=========== \n",
      "training error is  0.19262\n",
      "val error is : 0.2069\n",
      "Epoch ========== 36 :=========== \n",
      "training error is  0.1916\n",
      "val error is : 0.2061\n",
      "Epoch ========== 37 :=========== \n",
      "training error is  0.19074\n",
      "val error is : 0.2057\n",
      "Epoch ========== 38 :=========== \n",
      "training error is  0.18958\n",
      "val error is : 0.2046\n",
      "Epoch ========== 39 :=========== \n",
      "training error is  0.1887\n",
      "val error is : 0.2042\n",
      "Epoch ========== 40 :=========== \n",
      "training error is  0.18812\n",
      "val error is : 0.203\n",
      "Epoch ========== 41 :=========== \n",
      "training error is  0.1871\n",
      "val error is : 0.2015\n",
      "Epoch ========== 42 :=========== \n",
      "training error is  0.18666\n",
      "val error is : 0.2021\n",
      "Epoch ========== 43 :=========== \n",
      "training error is  0.18604\n",
      "val error is : 0.2014\n",
      "Epoch ========== 44 :=========== \n",
      "training error is  0.1851\n",
      "val error is : 0.2006\n",
      "Epoch ========== 45 :=========== \n",
      "training error is  0.18428\n",
      "val error is : 0.1998\n",
      "Epoch ========== 46 :=========== \n",
      "training error is  0.18354\n",
      "val error is : 0.1997\n",
      "Epoch ========== 47 :=========== \n",
      "training error is  0.1829\n",
      "val error is : 0.1993\n",
      "Epoch ========== 48 :=========== \n",
      "training error is  0.18248\n",
      "val error is : 0.1991\n",
      "Epoch ========== 49 :=========== \n",
      "training error is  0.18176\n",
      "val error is : 0.1986\n"
     ]
    }
   ],
   "source": [
    "NN.fit(train_X ,train_Y ,val_X , val_Y  , 500)"
   ]
  },
  {
   "cell_type": "markdown",
   "metadata": {},
   "source": [
    "###  Predicting on test data"
   ]
  },
  {
   "cell_type": "code",
   "execution_count": 0,
   "metadata": {
    "colab": {},
    "colab_type": "code",
    "collapsed": true,
    "id": "71J7fUN_cNcg"
   },
   "outputs": [],
   "source": [
    "test_data = pd.read_csv(\"apparel-test (1).csv\")"
   ]
  },
  {
   "cell_type": "code",
   "execution_count": 25,
   "metadata": {
    "colab": {
     "base_uri": "https://localhost:8080/",
     "height": 34
    },
    "colab_type": "code",
    "collapsed": false,
    "id": "OcmuPt3fhGXh",
    "outputId": "098ed3df-377f-44a4-e168-101d4ca82943"
   },
   "outputs": [
    {
     "name": "stdout",
     "output_type": "stream",
     "text": [
      "[0 1 2 ... 4 2 2]\n"
     ]
    }
   ],
   "source": [
    "test_result = NN.predict(test_data)\n",
    "print(test_result)\n",
    "np.savetxt(\"foo.csv\", test_result , fmt = \"%d\")\n",
    "\n",
    "files.download('foo.csv')\n"
   ]
  },
  {
   "cell_type": "code",
   "execution_count": 19,
   "metadata": {
    "colab": {
     "base_uri": "https://localhost:8080/",
     "height": 361
    },
    "colab_type": "code",
    "collapsed": false,
    "id": "OPeXHgsBbWBh",
    "outputId": "d60efbc0-9a30-4ff9-eb7e-bfe0d91f1b7c"
   },
   "outputs": [
    {
     "data": {
      "image/png": "[encoded data removed]",
      "text/plain": [
       "<Figure size 576x396 with 1 Axes>"
      ]
     },
     "metadata": {
      "tags": []
     },
     "output_type": "display_data"
    }
   ],
   "source": [
    "NN.epoch_vs_accuracy()"
   ]
  },
  {
   "cell_type": "markdown",
   "metadata": {
    "colab": {},
    "colab_type": "code",
    "id": "AsXRx1fiTVDT"
   },
   "source": [
    "### Training with relu function "
   ]
  },
  {
   "cell_type": "code",
   "execution_count": 0,
   "metadata": {
    "colab": {},
    "colab_type": "code",
    "collapsed": true,
    "id": "apaniHKnbWBy"
   },
   "outputs": [],
   "source": [
    "NN1 = neuralNet([784 ,64, 10] ,['relu' , 'softmax'] , iterations = 50, learning_rate = 0.005)"
   ]
  },
  {
   "cell_type": "code",
   "execution_count": 23,
   "metadata": {
    "colab": {
     "base_uri": "https://localhost:8080/",
     "height": 2567
    },
    "colab_type": "code",
    "collapsed": false,
    "id": "wzsqKBQibWB8",
    "outputId": "b9236b5b-eaa6-4c47-9348-450a9a89ebcc"
   },
   "outputs": [
    {
     "name": "stdout",
     "output_type": "stream",
     "text": [
      "Epoch ========== 0 :=========== \n",
      "training error is  0.53354\n",
      "val error is : 0.4019\n",
      "Epoch ========== 1 :=========== \n",
      "training error is  0.3672\n",
      "val error is : 0.3398\n",
      "Epoch ========== 2 :=========== \n",
      "training error is  0.32726\n",
      "val error is : 0.3187\n",
      "Epoch ========== 3 :=========== \n",
      "training error is  0.30632\n",
      "val error is : 0.308\n",
      "Epoch ========== 4 :=========== \n",
      "training error is  0.29704\n",
      "val error is : 0.3032\n",
      "Epoch ========== 5 :=========== \n",
      "training error is  0.29082\n",
      "val error is : 0.2966\n",
      "Epoch ========== 6 :=========== \n",
      "training error is  0.28722\n",
      "val error is : 0.2944\n",
      "Epoch ========== 7 :=========== \n",
      "training error is  0.28522\n",
      "val error is : 0.2907\n",
      "Epoch ========== 8 :=========== \n",
      "training error is  0.28304\n",
      "val error is : 0.283\n",
      "Epoch ========== 9 :=========== \n",
      "training error is  0.27928\n",
      "val error is : 0.2807\n",
      "Epoch ========== 10 :=========== \n",
      "training error is  0.27728\n",
      "val error is : 0.2778\n",
      "Epoch ========== 11 :=========== \n",
      "training error is  0.2753\n",
      "val error is : 0.2773\n",
      "Epoch ========== 12 :=========== \n",
      "training error is  0.27292\n",
      "val error is : 0.2782\n",
      "Epoch ========== 13 :=========== \n",
      "training error is  0.27088\n",
      "val error is : 0.276\n",
      "Epoch ========== 14 :=========== \n",
      "training error is  0.2687\n",
      "val error is : 0.2749\n",
      "Epoch ========== 15 :=========== \n",
      "training error is  0.26704\n",
      "val error is : 0.2723\n",
      "Epoch ========== 16 :=========== \n",
      "training error is  0.26516\n",
      "val error is : 0.2716\n",
      "Epoch ========== 17 :=========== \n",
      "training error is  0.2634\n",
      "val error is : 0.2699\n",
      "Epoch ========== 18 :=========== \n",
      "training error is  0.26174\n",
      "val error is : 0.2681\n",
      "Epoch ========== 19 :=========== \n",
      "training error is  0.2602\n",
      "val error is : 0.2662\n",
      "Epoch ========== 20 :=========== \n",
      "training error is  0.25896\n",
      "val error is : 0.2653\n",
      "Epoch ========== 21 :=========== \n",
      "training error is  0.25708\n",
      "val error is : 0.2624\n",
      "Epoch ========== 22 :=========== \n",
      "training error is  0.25592\n",
      "val error is : 0.2617\n",
      "Epoch ========== 23 :=========== \n",
      "training error is  0.25488\n",
      "val error is : 0.261\n",
      "Epoch ========== 24 :=========== \n",
      "training error is  0.2536\n",
      "val error is : 0.2598\n",
      "Epoch ========== 25 :=========== \n",
      "training error is  0.25282\n",
      "val error is : 0.2595\n",
      "Epoch ========== 26 :=========== \n",
      "training error is  0.25196\n",
      "val error is : 0.2588\n",
      "Epoch ========== 27 :=========== \n",
      "training error is  0.25096\n",
      "val error is : 0.2577\n",
      "Epoch ========== 28 :=========== \n",
      "training error is  0.2497\n",
      "val error is : 0.2566\n",
      "Epoch ========== 29 :=========== \n",
      "training error is  0.24876\n",
      "val error is : 0.2554\n",
      "Epoch ========== 30 :=========== \n",
      "training error is  0.24756\n",
      "val error is : 0.255\n",
      "Epoch ========== 31 :=========== \n",
      "training error is  0.24668\n",
      "val error is : 0.2541\n",
      "Epoch ========== 32 :=========== \n",
      "training error is  0.24554\n",
      "val error is : 0.2538\n",
      "Epoch ========== 33 :=========== \n",
      "training error is  0.2441\n",
      "val error is : 0.2521\n",
      "Epoch ========== 34 :=========== \n",
      "training error is  0.24334\n",
      "val error is : 0.2514\n",
      "Epoch ========== 35 :=========== \n",
      "training error is  0.24256\n",
      "val error is : 0.2512\n",
      "Epoch ========== 36 :=========== \n",
      "training error is  0.24172\n",
      "val error is : 0.2509\n",
      "Epoch ========== 37 :=========== \n",
      "training error is  0.24108\n",
      "val error is : 0.2506\n",
      "Epoch ========== 38 :=========== \n",
      "training error is  0.24052\n",
      "val error is : 0.2497\n",
      "Epoch ========== 39 :=========== \n",
      "training error is  0.23966\n",
      "val error is : 0.2496\n",
      "Epoch ========== 40 :=========== \n",
      "training error is  0.23898\n",
      "val error is : 0.2481\n",
      "Epoch ========== 41 :=========== \n",
      "training error is  0.23842\n",
      "val error is : 0.2478\n",
      "Epoch ========== 42 :=========== \n",
      "training error is  0.23776\n",
      "val error is : 0.2472\n",
      "Epoch ========== 43 :=========== \n",
      "training error is  0.2368\n",
      "val error is : 0.2467\n",
      "Epoch ========== 44 :=========== \n",
      "training error is  0.23608\n",
      "val error is : 0.2462\n",
      "Epoch ========== 45 :=========== \n",
      "training error is  0.2355\n",
      "val error is : 0.2446\n",
      "Epoch ========== 46 :=========== \n",
      "training error is  0.23452\n",
      "val error is : 0.2437\n",
      "Epoch ========== 47 :=========== \n",
      "training error is  0.23394\n",
      "val error is : 0.2428\n",
      "Epoch ========== 48 :=========== \n",
      "training error is  0.23316\n",
      "val error is : 0.2425\n",
      "Epoch ========== 49 :=========== \n",
      "training error is  0.23244\n",
      "val error is : 0.2413\n"
     ]
    }
   ],
   "source": [
    "NN1.fit(train_X , train_Y,val_X , val_Y , 100)"
   ]
  },
  {
   "cell_type": "code",
   "execution_count": 24,
   "metadata": {
    "colab": {
     "base_uri": "https://localhost:8080/",
     "height": 361
    },
    "colab_type": "code",
    "collapsed": false,
    "id": "ehZLBPUcbWCD",
    "outputId": "a8e203ab-893f-4c45-e25e-ce8d884d4a0a"
   },
   "outputs": [
    {
     "data": {
      "image/png": "[encoded data removed]",
      "text/plain": [
       "<Figure size 576x396 with 1 Axes>"
      ]
     },
     "metadata": {
      "tags": []
     },
     "output_type": "display_data"
    }
   ],
   "source": [
    "NN1.epoch_vs_accuracy()"
   ]
  },
  {
   "cell_type": "markdown",
   "metadata": {
    "colab_type": "text",
    "id": "L6zLsgpJbWCM"
   },
   "source": [
    "###  Training with Tanh function( 2 hidden layers )"
   ]
  },
  {
   "cell_type": "code",
   "execution_count": 0,
   "metadata": {
    "colab": {},
    "colab_type": "code",
    "collapsed": true,
    "id": "KLfOPzuYbWCP"
   },
   "outputs": [],
   "source": [
    "NN2 = neuralNet([784 ,256 , 256, 10] ,['tanh' ,'tanh' , 'softmax'] , iterations = 50, learning_rate = 0.1)"
   ]
  },
  {
   "cell_type": "code",
   "execution_count": 27,
   "metadata": {
    "colab": {
     "base_uri": "https://localhost:8080/",
     "height": 2567
    },
    "colab_type": "code",
    "collapsed": false,
    "id": "Py6Zsvq8bWCT",
    "outputId": "fd3b7394-5a57-4f96-87fb-b999ddde5db3"
   },
   "outputs": [
    {
     "name": "stdout",
     "output_type": "stream",
     "text": [
      "Epoch ========== 0 :=========== \n",
      "training error is  0.3821\n",
      "val error is : 0.3272\n",
      "Epoch ========== 1 :=========== \n",
      "training error is  0.30896\n",
      "val error is : 0.2872\n",
      "Epoch ========== 2 :=========== \n",
      "training error is  0.28258\n",
      "val error is : 0.2718\n",
      "Epoch ========== 3 :=========== \n",
      "training error is  0.26098\n",
      "val error is : 0.2647\n",
      "Epoch ========== 4 :=========== \n",
      "training error is  0.24908\n",
      "val error is : 0.2582\n",
      "Epoch ========== 5 :=========== \n",
      "training error is  0.23196\n",
      "val error is : 0.259\n",
      "Epoch ========== 6 :=========== \n",
      "training error is  0.22076\n",
      "val error is : 0.2503\n",
      "Epoch ========== 7 :=========== \n",
      "training error is  0.2097\n",
      "val error is : 0.2425\n",
      "Epoch ========== 8 :=========== \n",
      "training error is  0.20126\n",
      "val error is : 0.2387\n",
      "Epoch ========== 9 :=========== \n",
      "training error is  0.19396\n",
      "val error is : 0.2329\n",
      "Epoch ========== 10 :=========== \n",
      "training error is  0.18704\n",
      "val error is : 0.2326\n",
      "Epoch ========== 11 :=========== \n",
      "training error is  0.18102\n",
      "val error is : 0.2317\n",
      "Epoch ========== 12 :=========== \n",
      "training error is  0.17738\n",
      "val error is : 0.2299\n",
      "Epoch ========== 13 :=========== \n",
      "training error is  0.17326\n",
      "val error is : 0.2307\n",
      "Epoch ========== 14 :=========== \n",
      "training error is  0.16866\n",
      "val error is : 0.2291\n",
      "Epoch ========== 15 :=========== \n",
      "training error is  0.16482\n",
      "val error is : 0.2265\n",
      "Epoch ========== 16 :=========== \n",
      "training error is  0.1609\n",
      "val error is : 0.2241\n",
      "Epoch ========== 17 :=========== \n",
      "training error is  0.15828\n",
      "val error is : 0.223\n",
      "Epoch ========== 18 :=========== \n",
      "training error is  0.15542\n",
      "val error is : 0.2249\n",
      "Epoch ========== 19 :=========== \n",
      "training error is  0.15266\n",
      "val error is : 0.2237\n",
      "Epoch ========== 20 :=========== \n",
      "training error is  0.14992\n",
      "val error is : 0.221\n",
      "Epoch ========== 21 :=========== \n",
      "training error is  0.14742\n",
      "val error is : 0.2196\n",
      "Epoch ========== 22 :=========== \n",
      "training error is  0.14578\n",
      "val error is : 0.2191\n",
      "Epoch ========== 23 :=========== \n",
      "training error is  0.1435\n",
      "val error is : 0.2179\n",
      "Epoch ========== 24 :=========== \n",
      "training error is  0.14142\n",
      "val error is : 0.2165\n",
      "Epoch ========== 25 :=========== \n",
      "training error is  0.13974\n",
      "val error is : 0.214\n",
      "Epoch ========== 26 :=========== \n",
      "training error is  0.13828\n",
      "val error is : 0.2124\n",
      "Epoch ========== 27 :=========== \n",
      "training error is  0.1364\n",
      "val error is : 0.2127\n",
      "Epoch ========== 28 :=========== \n",
      "training error is  0.1345\n",
      "val error is : 0.2122\n",
      "Epoch ========== 29 :=========== \n",
      "training error is  0.13318\n",
      "val error is : 0.2117\n",
      "Epoch ========== 30 :=========== \n",
      "training error is  0.13206\n",
      "val error is : 0.2124\n",
      "Epoch ========== 31 :=========== \n",
      "training error is  0.13088\n",
      "val error is : 0.2116\n",
      "Epoch ========== 32 :=========== \n",
      "training error is  0.12922\n",
      "val error is : 0.2107\n",
      "Epoch ========== 33 :=========== \n",
      "training error is  0.12796\n",
      "val error is : 0.2098\n",
      "Epoch ========== 34 :=========== \n",
      "training error is  0.12636\n",
      "val error is : 0.2099\n",
      "Epoch ========== 35 :=========== \n",
      "training error is  0.1257\n",
      "val error is : 0.21\n",
      "Epoch ========== 36 :=========== \n",
      "training error is  0.1243\n",
      "val error is : 0.2095\n",
      "Epoch ========== 37 :=========== \n",
      "training error is  0.1231\n",
      "val error is : 0.2098\n",
      "Epoch ========== 38 :=========== \n",
      "training error is  0.12174\n",
      "val error is : 0.2094\n",
      "Epoch ========== 39 :=========== \n",
      "training error is  0.12076\n",
      "val error is : 0.2096\n",
      "Epoch ========== 40 :=========== \n",
      "training error is  0.11996\n",
      "val error is : 0.2087\n",
      "Epoch ========== 41 :=========== \n",
      "training error is  0.11882\n",
      "val error is : 0.2085\n",
      "Epoch ========== 42 :=========== \n",
      "training error is  0.11792\n",
      "val error is : 0.2082\n",
      "Epoch ========== 43 :=========== \n",
      "training error is  0.1165\n",
      "val error is : 0.2081\n",
      "Epoch ========== 44 :=========== \n",
      "training error is  0.1157\n",
      "val error is : 0.2074\n",
      "Epoch ========== 45 :=========== \n",
      "training error is  0.1145\n",
      "val error is : 0.2067\n",
      "Epoch ========== 46 :=========== \n",
      "training error is  0.11364\n",
      "val error is : 0.2061\n",
      "Epoch ========== 47 :=========== \n",
      "training error is  0.1125\n",
      "val error is : 0.2056\n",
      "Epoch ========== 48 :=========== \n",
      "training error is  0.11154\n",
      "val error is : 0.2052\n",
      "Epoch ========== 49 :=========== \n",
      "training error is  0.1105\n",
      "val error is : 0.2053\n"
     ]
    }
   ],
   "source": [
    "NN2.fit(train_X , train_Y , val_X ,val_Y , 100)"
   ]
  },
  {
   "cell_type": "code",
   "execution_count": 28,
   "metadata": {
    "colab": {
     "base_uri": "https://localhost:8080/",
     "height": 361
    },
    "colab_type": "code",
    "collapsed": false,
    "id": "fJERSF5CbWCY",
    "outputId": "267363cf-7c9c-4ab7-a9de-dcc914a02fe2"
   },
   "outputs": [
    {
     "data": {
      "image/png": "[encoded data removed]",
      "text/plain": [
       "<Figure size 576x396 with 1 Axes>"
      ]
     },
     "metadata": {
      "tags": []
     },
     "output_type": "display_data"
    }
   ],
   "source": [
    "NN2.epoch_vs_accuracy()"
   ]
  },
  {
   "cell_type": "markdown",
   "metadata": {
    "colab_type": "text",
    "id": "bBuumT0fbWCe"
   },
   "source": [
    "### Training with Sigmoid "
   ]
  },
  {
   "cell_type": "code",
   "execution_count": 0,
   "metadata": {
    "colab": {},
    "colab_type": "code",
    "collapsed": true,
    "id": "ViUiB18JbWCe"
   },
   "outputs": [],
   "source": [
    "NN3 = neuralNet([784 ,1024, 10] ,['sigmoid' , 'softmax'] , iterations = 50 , learning_rate = 0.1)"
   ]
  },
  {
   "cell_type": "code",
   "execution_count": 30,
   "metadata": {
    "colab": {
     "base_uri": "https://localhost:8080/",
     "height": 2567
    },
    "colab_type": "code",
    "collapsed": false,
    "id": "7rL9wCRYbWCj",
    "outputId": "51a4e455-449e-43eb-da95-1fe72c05dfb0"
   },
   "outputs": [
    {
     "name": "stdout",
     "output_type": "stream",
     "text": [
      "Epoch ========== 0 :=========== \n",
      "training error is  0.31304\n",
      "val error is : 0.2439\n",
      "Epoch ========== 1 :=========== \n",
      "training error is  0.22288\n",
      "val error is : 0.2196\n",
      "Epoch ========== 2 :=========== \n",
      "training error is  0.20036\n",
      "val error is : 0.2095\n",
      "Epoch ========== 3 :=========== \n",
      "training error is  0.18654\n",
      "val error is : 0.2066\n",
      "Epoch ========== 4 :=========== \n",
      "training error is  0.17622\n",
      "val error is : 0.2035\n",
      "Epoch ========== 5 :=========== \n",
      "training error is  0.1687\n",
      "val error is : 0.2007\n",
      "Epoch ========== 6 :=========== \n",
      "training error is  0.16116\n",
      "val error is : 0.1988\n",
      "Epoch ========== 7 :=========== \n",
      "training error is  0.15466\n",
      "val error is : 0.1966\n",
      "Epoch ========== 8 :=========== \n",
      "training error is  0.14998\n",
      "val error is : 0.1951\n",
      "Epoch ========== 9 :=========== \n",
      "training error is  0.1446\n",
      "val error is : 0.1924\n",
      "Epoch ========== 10 :=========== \n",
      "training error is  0.14052\n",
      "val error is : 0.189\n",
      "Epoch ========== 11 :=========== \n",
      "training error is  0.13668\n",
      "val error is : 0.1872\n",
      "Epoch ========== 12 :=========== \n",
      "training error is  0.13354\n",
      "val error is : 0.1851\n",
      "Epoch ========== 13 :=========== \n",
      "training error is  0.13054\n",
      "val error is : 0.185\n",
      "Epoch ========== 14 :=========== \n",
      "training error is  0.12746\n",
      "val error is : 0.1842\n",
      "Epoch ========== 15 :=========== \n",
      "training error is  0.12374\n",
      "val error is : 0.1835\n",
      "Epoch ========== 16 :=========== \n",
      "training error is  0.12042\n",
      "val error is : 0.1818\n",
      "Epoch ========== 17 :=========== \n",
      "training error is  0.1173\n",
      "val error is : 0.1811\n",
      "Epoch ========== 18 :=========== \n",
      "training error is  0.1149\n",
      "val error is : 0.1804\n",
      "Epoch ========== 19 :=========== \n",
      "training error is  0.11266\n",
      "val error is : 0.1796\n",
      "Epoch ========== 20 :=========== \n",
      "training error is  0.10998\n",
      "val error is : 0.1785\n",
      "Epoch ========== 21 :=========== \n",
      "training error is  0.10774\n",
      "val error is : 0.1779\n",
      "Epoch ========== 22 :=========== \n",
      "training error is  0.10556\n",
      "val error is : 0.1779\n",
      "Epoch ========== 23 :=========== \n",
      "training error is  0.10314\n",
      "val error is : 0.1767\n",
      "Epoch ========== 24 :=========== \n",
      "training error is  0.10078\n",
      "val error is : 0.1758\n",
      "Epoch ========== 25 :=========== \n",
      "training error is  0.0983\n",
      "val error is : 0.1747\n",
      "Epoch ========== 26 :=========== \n",
      "training error is  0.09656\n",
      "val error is : 0.1738\n",
      "Epoch ========== 27 :=========== \n",
      "training error is  0.09474\n",
      "val error is : 0.1729\n",
      "Epoch ========== 28 :=========== \n",
      "training error is  0.09272\n",
      "val error is : 0.1724\n",
      "Epoch ========== 29 :=========== \n",
      "training error is  0.09102\n",
      "val error is : 0.172\n",
      "Epoch ========== 30 :=========== \n",
      "training error is  0.08902\n",
      "val error is : 0.1708\n",
      "Epoch ========== 31 :=========== \n",
      "training error is  0.0876\n",
      "val error is : 0.1703\n",
      "Epoch ========== 32 :=========== \n",
      "training error is  0.08588\n",
      "val error is : 0.1698\n",
      "Epoch ========== 33 :=========== \n",
      "training error is  0.0844\n",
      "val error is : 0.169\n",
      "Epoch ========== 34 :=========== \n",
      "training error is  0.0828\n",
      "val error is : 0.1692\n",
      "Epoch ========== 35 :=========== \n",
      "training error is  0.08104\n",
      "val error is : 0.1693\n",
      "Epoch ========== 36 :=========== \n",
      "training error is  0.07964\n",
      "val error is : 0.1684\n",
      "Epoch ========== 37 :=========== \n",
      "training error is  0.07818\n",
      "val error is : 0.1681\n",
      "Epoch ========== 38 :=========== \n",
      "training error is  0.07698\n",
      "val error is : 0.1682\n",
      "Epoch ========== 39 :=========== \n",
      "training error is  0.07586\n",
      "val error is : 0.1682\n",
      "Epoch ========== 40 :=========== \n",
      "training error is  0.07472\n",
      "val error is : 0.1677\n",
      "Epoch ========== 41 :=========== \n",
      "training error is  0.07318\n",
      "val error is : 0.1675\n",
      "Epoch ========== 42 :=========== \n",
      "training error is  0.07232\n",
      "val error is : 0.1676\n",
      "Epoch ========== 43 :=========== \n",
      "training error is  0.07114\n",
      "val error is : 0.1676\n",
      "Epoch ========== 44 :=========== \n",
      "training error is  0.07006\n",
      "val error is : 0.167\n",
      "Epoch ========== 45 :=========== \n",
      "training error is  0.06894\n",
      "val error is : 0.1668\n",
      "Epoch ========== 46 :=========== \n",
      "training error is  0.06806\n",
      "val error is : 0.1663\n",
      "Epoch ========== 47 :=========== \n",
      "training error is  0.0669\n",
      "val error is : 0.1659\n",
      "Epoch ========== 48 :=========== \n",
      "training error is  0.06562\n",
      "val error is : 0.1653\n",
      "Epoch ========== 49 :=========== \n",
      "training error is  0.0648\n",
      "val error is : 0.1653\n"
     ]
    }
   ],
   "source": [
    "NN3.fit(train_X,  train_Y , val_X , val_Y , 100)"
   ]
  },
  {
   "cell_type": "code",
   "execution_count": 32,
   "metadata": {
    "colab": {
     "base_uri": "https://localhost:8080/",
     "height": 361
    },
    "colab_type": "code",
    "collapsed": false,
    "id": "SA-NpmGGbWCn",
    "outputId": "d3d16eaf-10cf-4d22-ad60-b8fab9c3147d"
   },
   "outputs": [
    {
     "data": {
      "image/png": "[encoded data removed]",
      "text/plain": [
       "<Figure size 576x396 with 1 Axes>"
      ]
     },
     "metadata": {
      "tags": []
     },
     "output_type": "display_data"
    }
   ],
   "source": [
    "NN3.epoch_vs_accuracy()"
   ]
  },
  {
   "cell_type": "markdown",
   "metadata": {
    "colab_type": "text",
    "id": "zUMnE2MnbWCt"
   },
   "source": [
    "## Accuracy variation with no of layers :  "
   ]
  },
  {
   "cell_type": "code",
   "execution_count": 34,
   "metadata": {
    "colab": {
     "base_uri": "https://localhost:8080/",
     "height": 3407
    },
    "colab_type": "code",
    "collapsed": false,
    "id": "hzEB0XQ2bWCu",
    "outputId": "2ddfafdd-d887-40c9-9fc8-0fad061c2933"
   },
   "outputs": [
    {
     "name": "stdout",
     "output_type": "stream",
     "text": [
      "Epoch ========== 0 :=========== \n",
      "training error is  0.57474\n",
      "val error is : 0.4329\n",
      "Epoch ========== 1 :=========== \n",
      "training error is  0.38988\n",
      "val error is : 0.3522\n",
      "Epoch ========== 2 :=========== \n",
      "training error is  0.33228\n",
      "val error is : 0.3154\n",
      "Epoch ========== 3 :=========== \n",
      "training error is  0.30234\n",
      "val error is : 0.2908\n",
      "Epoch ========== 4 :=========== \n",
      "training error is  0.28456\n",
      "val error is : 0.2781\n",
      "Epoch ========== 5 :=========== \n",
      "training error is  0.27084\n",
      "val error is : 0.2677\n",
      "Epoch ========== 6 :=========== \n",
      "training error is  0.26056\n",
      "val error is : 0.2607\n",
      "Epoch ========== 7 :=========== \n",
      "training error is  0.25154\n",
      "val error is : 0.255\n",
      "Epoch ========== 8 :=========== \n",
      "training error is  0.24508\n",
      "val error is : 0.2491\n",
      "Epoch ========== 9 :=========== \n",
      "training error is  0.2396\n",
      "val error is : 0.2445\n",
      "Epoch ========== 10 :=========== \n",
      "training error is  0.23522\n",
      "val error is : 0.2403\n",
      "Epoch ========== 11 :=========== \n",
      "training error is  0.231\n",
      "val error is : 0.237\n",
      "Epoch ========== 12 :=========== \n",
      "training error is  0.2278\n",
      "val error is : 0.2325\n",
      "Epoch ========== 13 :=========== \n",
      "training error is  0.224\n",
      "val error is : 0.2299\n",
      "Epoch ========== 14 :=========== \n",
      "training error is  0.22056\n",
      "val error is : 0.2281\n",
      "Epoch ========== 15 :=========== \n",
      "training error is  0.21802\n",
      "val error is : 0.2258\n",
      "Epoch ========== 16 :=========== \n",
      "training error is  0.21528\n",
      "val error is : 0.2238\n",
      "Epoch ========== 17 :=========== \n",
      "training error is  0.21316\n",
      "val error is : 0.222\n",
      "Epoch ========== 18 :=========== \n",
      "training error is  0.21074\n",
      "val error is : 0.2207\n",
      "Epoch ========== 19 :=========== \n",
      "training error is  0.2091\n",
      "val error is : 0.219\n",
      "Epoch ========== 0 :=========== \n",
      "training error is  0.52972\n",
      "val error is : 0.3975\n",
      "Epoch ========== 1 :=========== \n",
      "training error is  0.35858\n",
      "val error is : 0.3401\n",
      "Epoch ========== 2 :=========== \n",
      "training error is  0.31872\n",
      "val error is : 0.3124\n",
      "Epoch ========== 3 :=========== \n",
      "training error is  0.29504\n",
      "val error is : 0.2957\n",
      "Epoch ========== 4 :=========== \n",
      "training error is  0.28014\n",
      "val error is : 0.2833\n",
      "Epoch ========== 5 :=========== \n",
      "training error is  0.26904\n",
      "val error is : 0.2729\n",
      "Epoch ========== 6 :=========== \n",
      "training error is  0.25886\n",
      "val error is : 0.2667\n",
      "Epoch ========== 7 :=========== \n",
      "training error is  0.2513\n",
      "val error is : 0.2629\n",
      "Epoch ========== 8 :=========== \n",
      "training error is  0.2443\n",
      "val error is : 0.2551\n",
      "Epoch ========== 9 :=========== \n",
      "training error is  0.23908\n",
      "val error is : 0.2485\n",
      "Epoch ========== 10 :=========== \n",
      "training error is  0.23414\n",
      "val error is : 0.244\n",
      "Epoch ========== 11 :=========== \n",
      "training error is  0.22956\n",
      "val error is : 0.24\n",
      "Epoch ========== 12 :=========== \n",
      "training error is  0.22532\n",
      "val error is : 0.2364\n",
      "Epoch ========== 13 :=========== \n",
      "training error is  0.2219\n",
      "val error is : 0.2329\n",
      "Epoch ========== 14 :=========== \n",
      "training error is  0.21894\n",
      "val error is : 0.2303\n",
      "Epoch ========== 15 :=========== \n",
      "training error is  0.21596\n",
      "val error is : 0.2264\n",
      "Epoch ========== 16 :=========== \n",
      "training error is  0.21342\n",
      "val error is : 0.2263\n",
      "Epoch ========== 17 :=========== \n",
      "training error is  0.21072\n",
      "val error is : 0.2244\n",
      "Epoch ========== 18 :=========== \n",
      "training error is  0.20824\n",
      "val error is : 0.2221\n",
      "Epoch ========== 19 :=========== \n",
      "training error is  0.20586\n",
      "val error is : 0.22\n",
      "Epoch ========== 0 :=========== \n",
      "training error is  0.54448\n",
      "val error is : 0.4025\n",
      "Epoch ========== 1 :=========== \n",
      "training error is  0.36456\n",
      "val error is : 0.3405\n",
      "Epoch ========== 2 :=========== \n",
      "training error is  0.32124\n",
      "val error is : 0.3161\n",
      "Epoch ========== 3 :=========== \n",
      "training error is  0.29702\n",
      "val error is : 0.2995\n",
      "Epoch ========== 4 :=========== \n",
      "training error is  0.28122\n",
      "val error is : 0.2854\n",
      "Epoch ========== 5 :=========== \n",
      "training error is  0.26968\n",
      "val error is : 0.2784\n",
      "Epoch ========== 6 :=========== \n",
      "training error is  0.26054\n",
      "val error is : 0.2711\n",
      "Epoch ========== 7 :=========== \n",
      "training error is  0.25328\n",
      "val error is : 0.2663\n",
      "Epoch ========== 8 :=========== \n",
      "training error is  0.24724\n",
      "val error is : 0.2611\n",
      "Epoch ========== 9 :=========== \n",
      "training error is  0.24156\n",
      "val error is : 0.2559\n",
      "Epoch ========== 10 :=========== \n",
      "training error is  0.2362\n",
      "val error is : 0.2514\n",
      "Epoch ========== 11 :=========== \n",
      "training error is  0.232\n",
      "val error is : 0.2472\n",
      "Epoch ========== 12 :=========== \n",
      "training error is  0.22766\n",
      "val error is : 0.2418\n",
      "Epoch ========== 13 :=========== \n",
      "training error is  0.22418\n",
      "val error is : 0.2405\n",
      "Epoch ========== 14 :=========== \n",
      "training error is  0.22048\n",
      "val error is : 0.2388\n",
      "Epoch ========== 15 :=========== \n",
      "training error is  0.21742\n",
      "val error is : 0.2373\n",
      "Epoch ========== 16 :=========== \n",
      "training error is  0.21498\n",
      "val error is : 0.2347\n",
      "Epoch ========== 17 :=========== \n",
      "training error is  0.21258\n",
      "val error is : 0.2318\n",
      "Epoch ========== 18 :=========== \n",
      "training error is  0.2098\n",
      "val error is : 0.23\n",
      "Epoch ========== 19 :=========== \n",
      "training error is  0.20712\n",
      "val error is : 0.2283\n"
     ]
    },
    {
     "data": {
      "image/png": "[encoded data removed]",
      "text/plain": [
       "<Figure size 576x396 with 1 Axes>"
      ]
     },
     "metadata": {
      "tags": []
     },
     "output_type": "display_data"
    }
   ],
   "source": [
    "layers =  [1,2,3]\n",
    "error_rates =  []\n",
    "\n",
    "# 1 hidden layer\n",
    "NN4 = neuralNet([784 ,256, 10] ,['sigmoid' , 'softmax'] , iterations = 20 , learning_rate = 0.1)\n",
    "NN4.fit(train_X,train_Y , val_X , val_Y , 500)\n",
    "error_rates.append(NN4.val_error[-1])\n",
    "\n",
    "# 2 hidden layer\n",
    "NN5 = neuralNet([784 ,256,256, 10] ,['sigmoid',  'sigmoid' , 'softmax'] , iterations = 20 , learning_rate = 0.1)\n",
    "NN5.fit(train_X , train_Y , val_X , val_Y , 500)\n",
    "error_rates.append(NN5.val_error[-1])\n",
    "\n",
    "#3 hidden layers\n",
    "\n",
    "NN6 = neuralNet([784 ,256,256,256, 10] ,['sigmoid','sigmoid','sigmoid','softmax'] , iterations = 20 , learning_rate = 0.1)\n",
    "NN6.fit(train_X , train_Y , val_X , val_Y , 500)\n",
    "error_rates.append(NN6.val_error[-1])\n",
    "\n",
    "\n",
    "plt.plot(layers , error_rates , 'g')\n",
    "plt.show()\n"
   ]
  },
  {
   "cell_type": "code",
   "execution_count": 37,
   "metadata": {
    "colab": {
     "base_uri": "https://localhost:8080/",
     "height": 1393
    },
    "colab_type": "code",
    "collapsed": false,
    "id": "m2tHxzP7sQGK",
    "outputId": "61034b54-3c4b-42cb-90c3-61a5c266fb20"
   },
   "outputs": [
    {
     "data": {
      "image/png": "[encoded data removed]",
      "text/plain": [
       "<Figure size 576x396 with 1 Axes>"
      ]
     },
     "metadata": {
      "tags": []
     },
     "output_type": "display_data"
    },
    {
     "data": {
      "image/png": "[encoded data removed]",
      "text/plain": [
       "<Figure size 576x396 with 1 Axes>"
      ]
     },
     "metadata": {
      "tags": []
     },
     "output_type": "display_data"
    },
    {
     "data": {
      "image/png": "[encoded data removed]",
      "text/plain": [
       "<Figure size 576x396 with 1 Axes>"
      ]
     },
     "metadata": {
      "tags": []
     },
     "output_type": "display_data"
    },
    {
     "data": {
      "image/png": "[encoded data removed]",
      "text/plain": [
       "<Figure size 576x396 with 1 Axes>"
      ]
     },
     "metadata": {
      "tags": []
     },
     "output_type": "display_data"
    }
   ],
   "source": [
    "NN4.epoch_vs_accuracy()\n",
    "NN5.epoch_vs_accuracy()\n",
    "NN6.epoch_vs_accuracy()\n",
    "plt.plot(layers , error_rates , 'g')\n",
    "plt.xlabel(\"No of layers\")\n",
    "plt.ylabel(\"Error\")\n",
    "plt.show()"
   ]
  },
  {
   "cell_type": "markdown",
   "metadata": {
    "colab_type": "text",
    "id": "DQtElmZfbWC0"
   },
   "source": [
    "## Question 2 :  "
   ]
  },
  {
   "cell_type": "markdown",
   "metadata": {
    "colab_type": "text",
    "id": "Y3FD1CDxbWC1"
   },
   "source": [
    "### Requirments for the data set of house price prediction :  "
   ]
  },
  {
   "cell_type": "markdown",
   "metadata": {
    "colab_type": "text",
    "id": "a2z0BVWibWC2"
   },
   "source": [
    "```\n",
    "1 . only one node will be enough in the output layer since it is a regression problem .\n",
    "2 . Required linear activation function in the output layer(need to modifiy as softmax is used in above \n",
    "    neural network) .\n",
    "3 . All hidden layers should not have linear activation function since it will be unable to learn \n",
    "    nonlinearity in the data because 3 hidden layers with all linear activation will work the same way \n",
    "    as a single layer neural network. \n",
    "4 . cost function should also be changed.(ex : least mean square can be used. )\n",
    "```"
   ]
  }
 ],
 "metadata": {
  "accelerator": "GPU",
  "anaconda-cloud": {},
  "colab": {
   "collapsed_sections": [],
   "name": "NN (1).ipynb",
   "provenance": [],
   "version": "0.3.2"
  },
  "kernelspec": {
   "display_name": "Python [default]",
   "language": "python",
   "name": "python2"
  },
  "language_info": {
   "codemirror_mode": {
    "name": "ipython",
    "version": 2
   },
   "file_extension": ".py",
   "mimetype": "text/x-python",
   "name": "python",
   "nbconvert_exporter": "python",
   "pygments_lexer": "ipython2",
   "version": "2.7.12"
  }
 },
 "nbformat": 4,
 "nbformat_minor": 0
}
